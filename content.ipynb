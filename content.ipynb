{
 "cells": [
  {
   "cell_type": "code",
   "execution_count": 109,
   "metadata": {},
   "outputs": [],
   "source": [
    "import pandas as pd\n",
    "from preprocess import Preprocess"
   ]
  },
  {
   "cell_type": "code",
   "execution_count": 113,
   "metadata": {},
   "outputs": [],
   "source": [
    "preprocess = Preprocess()\n",
    "\n",
    "df = pd.read_json('./data/IR_data_news_12k.json', orient='index')\n",
    "df_processed = df\n",
    "\n",
    "df_processed['content'] = df['content'].apply(preprocess.normalize)\n",
    "\n",
    "df_processed['content'] = df_processed['content'].apply(preprocess.tokenize)\n",
    "\n",
    "df_processed['content'] = df_processed['content'].apply(preprocess.stem)\n",
    "\n",
    "df_processed['content'] = df_processed['content'].apply(preprocess.redact_stops)\n"
   ]
  },
  {
   "cell_type": "code",
   "execution_count": 114,
   "metadata": {},
   "outputs": [],
   "source": [
    "df_processed.to_json('./data/preprocessed.json', orient='index')"
   ]
  }
 ],
 "metadata": {
  "interpreter": {
   "hash": "0ec66bbe782f389edb8615b95e71913b48001538f92dc4d53a6c71a0eff16772"
  },
  "kernelspec": {
   "display_name": "Python 3.9.1 64-bit",
   "language": "python",
   "name": "python3"
  },
  "language_info": {
   "codemirror_mode": {
    "name": "ipython",
    "version": 3
   },
   "file_extension": ".py",
   "mimetype": "text/x-python",
   "name": "python",
   "nbconvert_exporter": "python",
   "pygments_lexer": "ipython3",
   "version": "3.9.1"
  },
  "orig_nbformat": 4
 },
 "nbformat": 4,
 "nbformat_minor": 2
}
